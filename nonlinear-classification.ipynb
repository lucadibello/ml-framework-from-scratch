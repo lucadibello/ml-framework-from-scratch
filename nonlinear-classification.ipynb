{
 "cells": [
  {
   "cell_type": "markdown",
   "metadata": {
    "id": "PWP3_AEVeknK"
   },
   "source": [
    "# Assignment 3\n",
    "\n",
    "For submission, please choose \"file\"->\"Download\"->\"Download .py\", rename the file to \"firstname_lastname.py\" and upload it on the iCorsi platform. While we encourage you to discuss the assignments in groups, please write all the code yourself and do not share it with others! The deadline is Monday December 2th, 11:59 pm.\n",
    "\n",
    "For everything to work, all the cells in this notebook have to run in the correct order. When in doubt, just choose \"Runtime\"->\"Run all\" and it will run all cells from the start until an exception is encountered.\n",
    "\n",
    "For comments and questions, contact me: vincent.herrmann@usi.ch"
   ]
  },
  {
   "cell_type": "markdown",
   "metadata": {
    "id": "Gx2VI17DfiB5"
   },
   "source": [
    "\n",
    "# Simple Machine Learning Framework\n",
    "(30 points)\n",
    "\n",
    "In this part we are going to implement a very simple machine learning framework. The goal is that at the end of this part, you will have a rough idea what is happening inside a real world ML framework (e.g. PyTorch, TensorFlow, JAX, etc). Using this framework you will be able to easily build and train arbitrary fully connected neural networks. It will have the following building blocks: linear layer, sequential layer, the tanh activation function, and the softmax + cross-entropy loss. The skeleton is given, you will have to fill in the missing parts. Pay attention to the description in the skeleton file: it clarifies the task further, and also gives some useful hints. **You are not allowed to change the signature of the functions (name, the format of the arguments or output)**. They will be auto-checked, so their interface should match.\n",
    "\n",
    "You will test your framework on a synthetic two-class spiral dataset. You will use a simple, 3 layer network with tanh activation function on hidden layers and a softmax output layer. The output sizes are 50, 30, 2, respectively.\n",
    "\n",
    "- (5 points) Implement the ReLU activation function and its derivative in the code skeleton.\n",
    "\n",
    "- (5 points) Implement forward and backward pass for the linear layer.\n",
    "\n",
    "- (10 points) Implement forward and backward pass for the cross-entropy loss.\n",
    "\n",
    "- (10 points) Create the network and implement a single step of training with weight decay.\n",
    "\n",
    "Your task is to fill missing parts of this notebook."
   ]
  },
  {
   "cell_type": "markdown",
   "metadata": {
    "id": "3_xdPwI26wj4"
   },
   "source": [
    "### Detailed instructions\n",
    "You will have to implement a very primitive machine learning framework. The skeleton is given. You have to fill the\n",
    "blocks starting with `## Implement` and ending with `## End`. The goal is to provide you an insight into how machine learning frameworks work\n",
    "while practicing the most important details from the class.\n",
    "\n",
    "You have to implement the following modules (or call them layers?):\n",
    "- The ReLU activation function\n",
    "- A learnable linear layer\n",
    "- The Softmax+Cross-Entropy loss\n",
    "\n",
    "The linear layer is also called perceptron, fully connected layer, etc. The bias term is not included in the\n",
    "network weight matrix W because of performance reasons (concatenating the 1 to the input is slow). This is the case for the real-world ML frameworks too.\n",
    "\n",
    "All the functions you have to implement has their signature pre-specified, with annotated types. You should _not_ change this, because it will be tested by an automated system which depends on the current interface.\n",
    "\n",
    "The sequential layer is already implemented. It receives a list of layers for the constructor argument, and calls them in order on forward and in reverse order on backward. It is just syntactic sugar that makes the code much nicer. For example, you can\n",
    "create a two-layer neural network with ReLU activation functions with `net = Sequential([Linear(5, 8), ReLU(),\n",
    "Linear(8, 3), ReLU()])` and then run a forward pass using `output = net.forward(your data)`.\n",
    "\n",
    "All the modules have a `forward()` and a `backward()` function. `forward()` receives one argument (except for the loss which takes two) and\n",
    "returns that layer's output. The `backward()` receives the dL/dout (i.e., the gradient of the loss with respect to the output of the last `forward()` call), flowing back on the output of the layer, and should return a `BackwardResult` object with the following fields:\n",
    "- `variable_grads`: a dict of gradients, where the keys are the same as in the keys in the layer's .var. The values are numpy arrays representing the gradient for that variable.\n",
    "- `input_grads`: a numpy array representing the gradient for the input (that was passed to the layer in the forward pass).\n",
    "\n",
    "The `backward()` does not receive the forward pass's input, although it might be needed for the gradient calculation. You should save them in the forward pass for later use in the backward pass. You don't have to worry about most of this, as it is already implemented in the skeleton. There are 2 important takeaways: you have to calculate the gradient of both of your variables and the layer input in the backward pass, and if you need to reuse the input from the forward pass, you need to save it.\n",
    "\n",
    "You will also have to implement the function `train_one_step()`, which does one step of weight update based on the training data and the learning rate. It should run backpropagation, followed by gradient descent. It should also include weight decay, meaning that weights and biases are being punished for being too large. This equivalent to having an additional loss term $L_{wd} = \\beta \\sum_l \\big(|w_l|^2 + |b|^2 \\big)$, where $\\beta$ is the weight decay factor and $l$ is the index of the layer. It is easiest to implement it directly in the `train_one_step()` function. A good value for $\\beta$ is $0.005$.\n",
    "\n",
    "Automatic gradient checking is already implemented. It works by comparing your implementation of the analytic gradient with a numerical approximation. This is done by iterating over all the elements of all variables, nudging them a bit in both directions, and recalculating the network output. Based on that, we can calculate what the gradient should be if we assume that the forward pass is correct. The method is known as numerical differentiation, specifically the symmetric difference quotient. If the gradient checking passes and the error is around 0.008, your implementation of the backward passes is probably correct.\n",
    "\n",
    "Finally, you would have to complete the `create_network()` function, which should return a Sequential neural network of 3 layers: a ReLU input layer with 2 inputs and 50 outputs, a ReLU hidden layer with 30 outputs, and finally an output layer with 2 outputs. Our loss function is the Softmax+Cross-Entropy loss. Usually for two-way classification we don't use softmax, but we will need it for the MNIST part anyway, so we use it here as well.\n",
    "\n",
    "At the end of the training, your loss should be below 0.04. Don't worry if it differs a bit, but a significantly higher value may indicate a problem.\n",
    "\n",
    "There are asserts at many points in the code that will check the shapes of the gradients. Remember: the gradient for a variable must have the same shape as the variable itself. Imagine the variables and the network inputs/outputs as a cable with a given number of wires: no matter in which direction you pass the data, the number of wires is the same.\n",
    "\n",
    "Please do your calculations in a vectorized way. Otherwise, it will be painfully slow. This also means your data has a batch dimension. The input to each module is not a data vector $x$, but a $n \\times d$ matrix, where $n$ is the batch size and $d$ the dimensionality of the data vector. The only places where you might need a for-loop are the `Sequential` layer and the `train_one_step` function.\n",
    "\n",
    "Good luck, I hope you'll enjoy it :)!"
   ]
  },
  {
   "cell_type": "code",
   "execution_count": null,
   "metadata": {
    "id": "7ONSb1q-Or9W"
   },
   "outputs": [],
   "source": [
    "###############################################################################################################\n",
    "# Nothing to do in this cell.\n",
    "###############################################################################################################\n",
    "import numpy as np\n",
    "from dataclasses import dataclass\n",
    "from typing import Dict, List, Tuple\n",
    "import matplotlib\n",
    "import matplotlib.pyplot as plt\n",
    "from IPython.display import clear_output\n",
    "import os\n",
    "from urllib import request\n",
    "import gzip\n",
    "\n",
    "%matplotlib inline"
   ]
  },
  {
   "cell_type": "markdown",
   "metadata": {
    "id": "IuDxCwC-9pmL"
   },
   "source": [
    "### ReLU Activation Function"
   ]
  },
  {
   "cell_type": "code",
   "execution_count": null,
   "metadata": {
    "id": "h-VxMSJa957M"
   },
   "outputs": [],
   "source": [
    "class ReLU(Layer):\n",
    "    def forward(self, x: np.ndarray) -> np.ndarray:\n",
    "        result = np.maximum(0, x)\n",
    "        self.saved_variables = {\"result\": result}\n",
    "        return result\n",
    "\n",
    "    def backward(self, grad_in: np.ndarray) -> Layer.BackwardResult:\n",
    "        # result of forward pass, needed to compute the derivative of ReLu(X) -> ReLu'(X)\n",
    "        relu_x = self.saved_variables[\"result\"]\n",
    "        # Derviative of ReLU: f'(x) = 1 if x > 0 else 0\n",
    "        d_x = np.where(relu_x > 0, 1, 0) * grad_in\n",
    "\n",
    "        # ensure dimensions match\n",
    "        assert d_x.shape == relu_x.shape, \"Input: grad shape differs: %s %s\" % (d_x.shape, relu_x.shape)\n",
    "        \n",
    "        # Clean up internal state + return backward result\n",
    "        self.saved_variables = None\n",
    "        return Layer.BackwardResult({}, d_x)"
   ]
  },
  {
   "cell_type": "markdown",
   "metadata": {},
   "source": [
    "### Linear Layer"
   ]
  },
  {
   "cell_type": "code",
   "execution_count": null,
   "metadata": {
    "id": "V8-THkHV-A4L"
   },
   "outputs": [],
   "source": []
  },
  {
   "cell_type": "markdown",
   "metadata": {
    "id": "rVfmF0qI-ElG"
   },
   "source": [
    "### Sequential Layer"
   ]
  },
  {
   "cell_type": "code",
   "execution_count": null,
   "metadata": {
    "id": "1WT0VULy-GkN"
   },
   "outputs": [],
   "source": [
    "###############################################################################################################\n",
    "# Nothing to do in this cell.\n",
    "###############################################################################################################\n",
    "\n"
   ]
  },
  {
   "cell_type": "markdown",
   "metadata": {
    "id": "085VuAbd-KSN"
   },
   "source": [
    "### Softmax + Cross-Entropy Loss"
   ]
  },
  {
   "cell_type": "code",
   "execution_count": null,
   "metadata": {
    "id": "7E1xdc16-NUU"
   },
   "outputs": [],
   "source": []
  },
  {
   "cell_type": "markdown",
   "metadata": {
    "id": "wtiWzHNF-gzH"
   },
   "source": [
    "### Train One Step & Create Network Functions"
   ]
  },
  {
   "cell_type": "code",
   "execution_count": null,
   "metadata": {
    "id": "3OaFX6dmPVsC"
   },
   "outputs": [],
   "source": [
    "\n",
    "\n",
    "\n",
    "def create_network() -> Layer:\n",
    "\n",
    "    ## Implement\n",
    "\n",
    "    network = Sequential([\n",
    "        Linear(2, 20),            # Input layer (2D spiral data)\n",
    "        Linear(20, 50), ReLU(),   # First hidden layer\n",
    "        Linear(50, 30), ReLU(),   # Second hidden layer\n",
    "        Linear(30, 2)             # Output layer for classification\n",
    "    ])\n",
    "\n",
    "    ## End\n",
    "\n",
    "    return network"
   ]
  },
  {
   "cell_type": "markdown",
   "metadata": {
    "id": "PskJzWLq-oGY"
   },
   "source": [
    "### Gradient Checking"
   ]
  },
  {
   "cell_type": "code",
   "execution_count": 117,
   "metadata": {
    "id": "jAuj5ZKV-rej"
   },
   "outputs": [],
   "source": [
    "###############################################################################################################\n",
    "# Nothing to do in this cell.\n",
    "###############################################################################################################\n",
    "\n",
    "def gradient_check():\n",
    "    X, T = twospirals(n_points=10)\n",
    "    print(X.shape, T.shape)\n",
    "    NN = create_network()\n",
    "    eps = 0.0001\n",
    "\n",
    "    loss = SoftmaxCrossEntropy()\n",
    "    loss.forward(NN.forward(X), T)\n",
    "    variable_gradients = NN.backward(loss.backward()).variable_grads\n",
    "\n",
    "    all_succeeded = True\n",
    "\n",
    "    # Check all variables. Variables will be flattened (reshape(-1)), in order to be able to generate a single index.\n",
    "    for key, value in NN.var.items():\n",
    "        variable = NN.var[key].reshape(-1)\n",
    "        variable_gradient = variable_gradients[key].reshape(-1)\n",
    "        success = True\n",
    "\n",
    "        if NN.var[key].shape != variable_gradients[key].shape:\n",
    "            print(\"[FAIL]: %s: Shape differs: %s %s\" % (key, NN.var[key].shape, variable_gradients[key].shape))\n",
    "            success = False\n",
    "            break\n",
    "\n",
    "        # Check all elements in the variable\n",
    "        for index in range(variable.shape[0]):\n",
    "            var_backup = variable[index]\n",
    "\n",
    "            analytic_grad = variable_gradient[index]\n",
    "\n",
    "            variable[index] = var_backup + eps\n",
    "            perturbed_loss_plus = loss.forward(NN.forward(X), T)\n",
    "            variable[index] = var_backup - eps\n",
    "            perturbed_loss_minus = loss.forward(NN.forward(X), T)\n",
    "            numeric_grad = (perturbed_loss_plus - perturbed_loss_minus) / (2*eps)\n",
    "\n",
    "            variable[index] = var_backup\n",
    "            if abs(numeric_grad - analytic_grad) > 0.00001:\n",
    "                print(\"[FAIL]: %s: Grad differs: numerical: %f, analytical %f\" % (key, numeric_grad, analytic_grad))\n",
    "                success = False\n",
    "                break\n",
    "\n",
    "        if success:\n",
    "            print(\"[OK]: %s\" % key)\n",
    "\n",
    "        all_succeeded = all_succeeded and success\n",
    "\n",
    "    return all_succeeded"
   ]
  },
  {
   "cell_type": "markdown",
   "metadata": {
    "id": "uIizvQ5B-Y8Z"
   },
   "source": [
    "### Train Model"
   ]
  },
  {
   "cell_type": "code",
   "execution_count": 118,
   "metadata": {
    "id": "XWdnpB8DPZvK"
   },
   "outputs": [
    {
     "data": {
      "image/png": "[encoded data removed]",
      "text/plain": [
       "<Figure size 640x480 with 1 Axes>"
      ]
     },
     "metadata": {},
     "output_type": "display_data"
    },
    {
     "name": "stdout",
     "output_type": "stream",
     "text": [
      "step:  19800  cost:  0.01840021672601589\n"
     ]
    }
   ],
   "source": [
    "###############################################################################################################\n",
    "# Nothing to do in this cell. Run it to train your model.\n",
    "###############################################################################################################\n",
    "\n",
    "np.random.seed(12345)\n",
    "\n",
    "\n",
    "def twospirals(n_points=120, noise=1.4, twist=600):\n",
    "    \"\"\"\n",
    "      Returns a two spirals dataset.\n",
    "    \"\"\"\n",
    "    np.random.seed(0)\n",
    "    n = np.sqrt(np.random.rand(n_points, 1)) * twist * (2 * np.pi) / 360\n",
    "    d1x = -np.cos(n) * n + np.random.rand(n_points, 1) * noise\n",
    "    d1y = np.sin(n) * n + np.random.rand(n_points, 1) * noise\n",
    "    X, T = (np.vstack((np.hstack((d1x, d1y)), np.hstack((-d1x, -d1y)))),\n",
    "            np.hstack((np.zeros(n_points).astype(int), np.ones(n_points).astype(int))))\n",
    "    return X, T\n",
    "\n",
    "\n",
    "def plot_data(X, T):\n",
    "    ax.scatter(X[:, 0], X[:, 1], s=40, c=T, cmap=plt.cm.Spectral)\n",
    "\n",
    "\n",
    "def plot_boundary(model, X, targets, threshold=0.0):\n",
    "    x_min, x_max = X[:, 0].min() - .5, X[:, 0].max() + .5\n",
    "    y_min, y_max = X[:, 1].min() - .5, X[:, 1].max() + .5\n",
    "    xx, yy = np.meshgrid(np.linspace(x_min, x_max, 200), np.linspace(y_min, y_max, 200))\n",
    "    X_grid = np.c_[xx.ravel(), yy.ravel()]\n",
    "    y = model.forward(X_grid)[:, 0]\n",
    "\n",
    "    ax.contourf(xx, yy, y.reshape(*xx.shape) < threshold, alpha=0.5)\n",
    "    plot_data(X, targets)\n",
    "    ax.set_ylim([y_min, y_max])\n",
    "    ax.set_xlim([x_min, x_max])\n",
    "    plt.show()\n",
    "\n",
    "\n",
    "print(\"Checking the network\")\n",
    "if not gradient_check():\n",
    "    raise Exception(\"Failed. Not training, because your gradients are not good.\")\n",
    "print(\"Done. Training...\")\n",
    "\n",
    "X, T = twospirals(n_points=200, noise=1.4, twist=600)\n",
    "NN = create_network()\n",
    "loss = SoftmaxCrossEntropy()\n",
    "\n",
    "learning_rate = 0.02\n",
    "\n",
    "for i in range(20000):\n",
    "    curr_error = train_one_step(NN, loss, learning_rate, X, T, weight_decay=0.0005)\n",
    "    if i % 200 == 0:\n",
    "        clear_output(wait=True)\n",
    "        fig, ax = plt.subplots()\n",
    "\n",
    "        plot_boundary(NN, X, T, 0.5)\n",
    "        print(\"step: \", i, \" cost: \", curr_error)"
   ]
  },
  {
   "cell_type": "markdown",
   "metadata": {
    "id": "Y8-wIODv6Uko"
   },
   "source": [
    "# Handwritten Digit Recognition\n",
    "\n",
    "(20 points)\n",
    "\n",
    "In this part you will use your ML framework to train a network that can classify handwritten digits. The network is a very simple 2 layer network, with layer output sizes of 20 and 10 respectively. Again, the skeleton is given, and you have to fill in the missing parts. After this part, you will have a rough idea how to build a proper training pipeline. Pay attention to the description in the skeleton file: it clarifies the your task further, and also gives some useful hints. Reuse as much as you can from framework.py by importing the corresponding functions and classes (e.g the layers, the `train_one_step()` function, etc).\n",
    "\n",
    "- (3 points) Split the data into a training and a validation set.  \n",
    "- (8 points) Implement one function for testing the network on the validation set and one for testing it on the test set.\n",
    "- (6 points) Implement the main training loop.\n",
    "- (3 points) Implement early stopping.\n",
    "\n",
    "Your task is to fill missing parts of the minst.py file. Run it with Python 3 in order to verify whether your solution is correct. Note: The mnist.py and framework.py must be in the same folder for this to work. You will find lots of hints in the templates. Note: in case you return wrongly shaped vectors, the code might fail outside the part you had to fill, but this does not mean that your part is right and the template is wrong."
   ]
  },
  {
   "cell_type": "markdown",
   "metadata": {
    "id": "XRMAcOGo2VnG"
   },
   "source": [
    "### Detailed Instructions\n",
    "In this assignment, you will learn how to train a model with early stopping with the simple machine learning\n",
    "framework's help from the previous assignment. The intent is to show you how to train a machine learning model.\n",
    "It is very similar to what you would do in a real ML framework.\n",
    "\n",
    "We provide some code to download and load MNIST digits. The MNIST comes with a separate test and training set, but\n",
    "not a validation set. Your task is to split the official \"train\" set to train and validation set and train the\n",
    "network with early stopping.\n",
    "\n",
    "Some notes:\n",
    " * an EPOCH is a pass through the whole training set once.\n",
    " * validation accuracy is the percentage of correctly classified digits on the validation set.\n",
    " * early stopping is when you avoid overfitting the model by measuring validation accuracy every N steps (e.g.,\n",
    "   every epoch) and stopping your training when your model begins to worsen on the validation set. You can do that by\n",
    "   keeping track of the best validation accuracy so far and its epoch, and stopping if the validation\n",
    "   accuracy has not improved in the last M steps (e.g., last 10 epochs).\n",
    "   (A better way to do this is to keep the weights of the best performing model, but that is harder since you need a\n",
    "   way to save and reload weights of the model. We keep it simple instead and use the last, slightly worse model).\n",
    " * test accuracy is the percentage of correctly classified digits on the test set.\n",
    " * watch out: if you load batch_size of data by NumPy slicing, it is not guaranteed that you will actually get\n",
    "   batch_size of them: if your array length is not divisable by batch_size, you will get the remainder as the last\n",
    "   batch. Take that in account when calculating the percentages: use shape[0] to determine the real number of\n",
    "   elements in the current batch of data.\n",
    " * verify() should be used both in the validate() and test() functions for error measurement\n",
    "   without code duplication (just the input data should be different).\n",
    " * this is a 10-way classification task, so your network will have 10 outputs, one for each digit. It\n",
    "   can be trained by Softmax nonlinearity followed by a Cross-Entropy loss function. So for every image, you get 10\n",
    "   outputs. To figure out which one is the correct class, you should find which is the most active.\n",
    " * MNIST comes with black-and-white binary images, with a background of 0 and foreground of 255. Each image is 28x28\n",
    "   matrix. To feed that to the model, we flatten it to a 784 (28*28) length vector and normalize it by 255, so the\n",
    "   backround becomes 0 and the foreground 1.0. Labels are integers between 0-9. You don't have to worry about this;\n",
    "   it's already done for you. The networks usually like to receive an input in range -1 .. 1 or generally the mean\n",
    "   near 0, and the standard deviation near 1 (as the majority of MNIST pixels is black, normalizing it to 0..1 range\n",
    "   is good enough).\n",
    "\n",
    "Your final test accuracy should be close to 96%.\n",
    "\n",
    "Good luck!"
   ]
  },
  {
   "cell_type": "code",
   "execution_count": 119,
   "metadata": {
    "colab": {
     "base_uri": "https://localhost:8080/",
     "height": 275
    },
    "id": "wYXDxG5R2g3I",
    "outputId": "58ee45a9-f381-404c-bec6-8287f2aaf5b6"
   },
   "outputs": [
    {
     "name": "stdout",
     "output_type": "stream",
     "text": [
      "MNIST:\n",
      "   Train set size: 42000\n",
      "   Validation set size: 18000\n",
      "   Test set size 10000\n",
      "mod_0: <__main__.Linear object at 0x15ecea540>\n",
      "mod_1: <__main__.ReLU object at 0x16c0632c0>\n",
      "mod_2: <__main__.Linear object at 0x16bc8a8d0>\n"
     ]
    }
   ],
   "source": [
    "#######################################################################################################################\n",
    "# Nothing to do in this cell.\n",
    "#######################################################################################################################\n",
    "\n",
    "class MNIST:\n",
    "    URL = \"https://storage.googleapis.com/tensorflow/tf-keras-datasets/mnist.npz\"\n",
    "\n",
    "    def __init__(self, set, cache=\"./cache\"):\n",
    "        os.makedirs(cache, exist_ok=True)\n",
    "\n",
    "        path = os.path.join(cache, \"mnist.npz\")\n",
    "        if not os.path.isfile(path):\n",
    "            request.urlretrieve(self.URL, path)\n",
    "\n",
    "        data = np.load(path)\n",
    "\n",
    "        assert set in [\"train\", \"test\"], \"set must be either train or test\"\n",
    "\n",
    "        self.images = data[\"x_\" + set].astype(float) / 255.0\n",
    "        self.labels = data[\"y_\" + set]\n",
    "\n",
    "    def __len__(self) -> int:\n",
    "        return self.images.shape[0]\n",
    "\n",
    "\n",
    "train_validation_set = MNIST(\"train\")\n",
    "test_set = MNIST(\"test\")\n",
    "\n",
    "n_train = int(0.7 * len(train_validation_set))\n",
    "print(\"MNIST:\")\n",
    "print(\"   Train set size:\", n_train)\n",
    "print(\"   Validation set size:\", len(train_validation_set) - n_train)\n",
    "print(\"   Test set size\", len(test_set))\n",
    "\n",
    "np.random.seed(1234)\n",
    "batch_size = 64\n",
    "\n",
    "loss = SoftmaxCrossEntropy()\n",
    "learning_rate = 0.1\n",
    "\n",
    "model = Sequential([\n",
    "    Linear(28*28, 20),\n",
    "    ReLU(),\n",
    "    Linear(20, 10),\n",
    "])"
   ]
  },
  {
   "cell_type": "markdown",
   "metadata": {
    "id": "MtcBuGog_TM5"
   },
   "source": [
    "### Train-Validation Split"
   ]
  },
  {
   "cell_type": "code",
   "execution_count": 120,
   "metadata": {
    "id": "Vcr1DDu73tmy"
   },
   "outputs": [],
   "source": [
    "indices = np.random.permutation(len(train_validation_set))\n",
    "\n",
    "## Implement\n",
    "## Hint: you should split indices to 2 parts: a training and a validation one. Later when loading a batch of data,\n",
    "## just iterate over those indices by loading \"batch_size\" of them at once, and load data from the dataset by\n",
    "## train_validation_set.images[your_indices[i: i+batch_size]] and\n",
    "## train_validation_set.labels[your_indices[i: i+batch_size]]\n",
    "\n",
    "train_indices = indices[:n_train]\n",
    "validation_indices = indices[n_train:]\n",
    "\n",
    "## End"
   ]
  },
  {
   "cell_type": "markdown",
   "metadata": {
    "id": "1D5Izz4UBhTp"
   },
   "source": [
    "### Verify, Test and Validate Functions"
   ]
  },
  {
   "cell_type": "code",
   "execution_count": 121,
   "metadata": {
    "id": "UAA6DEzz6Rnq"
   },
   "outputs": [],
   "source": [
    "def verify(images: np.ndarray, targets: np.ndarray) -> Tuple[int, int]:\n",
    "    ## Implement\n",
    "\n",
    "    # Forward pass\n",
    "    pred = model.forward(images)\n",
    "\n",
    "    # Comupute number of correct predictions\n",
    "    # NOTE: The maximum value in the probability vector is the class chosen by the model\n",
    "    #       argmax --> return the index of the maximum value == predicted class by the model\n",
    "    num_ok = np.sum(np.argmax(pred, axis=1) == targets)\n",
    "    # Total number of images\n",
    "    total_num = targets.shape[0]\n",
    "    \n",
    "    ## End\n",
    "    return num_ok, total_num\n",
    "\n",
    "\n",
    "def test() -> float:\n",
    "    accumulated_ok = 0.0\n",
    "    count = 0\n",
    "\n",
    "    # use test set\n",
    "    for i in range(0, len(test_set), batch_size):\n",
    "        images = test_set.images[i:i + batch_size].reshape(-1, 28*28)\n",
    "        labels = test_set.labels[i:i + batch_size]\n",
    "\n",
    "        ## Implement. Use the verify() function to verify your data.\n",
    "        num_ok, total_num = verify(images, labels)\n",
    "        accumulated_ok += num_ok\n",
    "        count += total_num\n",
    "        ## End\n",
    "\n",
    "    return accumulated_ok / count * 100.0\n",
    "\n",
    "\n",
    "def validate() -> float:\n",
    "    accumulated_ok = 0.0\n",
    "    count = 0\n",
    "\n",
    "    # use validation set\n",
    "    for i in range(0, len(train_validation_set), batch_size):\n",
    "        images = train_validation_set.images[i:i + batch_size].reshape(-1, 28*28)\n",
    "        labels = train_validation_set.labels[i:i + batch_size]\n",
    "\n",
    "        ## Implement. Use the verify() function to verify your data.\n",
    "        num_ok, total_num = verify(images, labels)\n",
    "        accumulated_ok += num_ok\n",
    "        count += total_num\n",
    "        ## End\n",
    "\n",
    "    return accumulated_ok/count * 100.0"
   ]
  },
  {
   "cell_type": "markdown",
   "metadata": {
    "id": "CFtbUNCaBobU"
   },
   "source": [
    "### Train Loop with Early Stopping"
   ]
  },
  {
   "cell_type": "code",
   "execution_count": 122,
   "metadata": {
    "id": "mUTnGmWS3GRt"
   },
   "outputs": [
    {
     "name": "stdout",
     "output_type": "stream",
     "text": [
      "Training the model...\n",
      "Shape of the training set:  (42000, 28, 28)\n",
      "Shape of the labels:  (42000,)\n",
      "Epoch 0: loss: 0.178793, validation accuracy: 91.27%\n",
      "Epoch 1: loss: 0.089356, validation accuracy: 92.77%\n",
      "Epoch 2: loss: 0.063351, validation accuracy: 93.55%\n",
      "Epoch 3: loss: 0.052029, validation accuracy: 94.08%\n",
      "Epoch 4: loss: 0.045468, validation accuracy: 94.47%\n",
      "Epoch 5: loss: 0.041210, validation accuracy: 94.81%\n",
      "Epoch 6: loss: 0.037501, validation accuracy: 95.05%\n",
      "Epoch 7: loss: 0.033919, validation accuracy: 95.26%\n",
      "Epoch 8: loss: 0.030236, validation accuracy: 95.42%\n",
      "Epoch 9: loss: 0.028123, validation accuracy: 95.53%\n",
      "Epoch 10: loss: 0.025412, validation accuracy: 95.66%\n",
      "Epoch 11: loss: 0.023834, validation accuracy: 95.80%\n",
      "Epoch 12: loss: 0.022668, validation accuracy: 95.90%\n",
      "Epoch 13: loss: 0.021826, validation accuracy: 95.99%\n",
      "Epoch 14: loss: 0.020174, validation accuracy: 96.10%\n",
      "Epoch 15: loss: 0.019718, validation accuracy: 96.16%\n",
      "Epoch 16: loss: 0.018719, validation accuracy: 96.21%\n",
      "Epoch 17: loss: 0.017867, validation accuracy: 96.23%\n",
      "Epoch 18: loss: 0.017146, validation accuracy: 96.28%\n",
      "Epoch 19: loss: 0.017011, validation accuracy: 96.31%\n",
      "Epoch 20: loss: 0.016633, validation accuracy: 96.30%\n",
      "Epoch 21: loss: 0.016149, validation accuracy: 96.34%\n",
      "Epoch 22: loss: 0.016006, validation accuracy: 96.38%\n",
      "Epoch 23: loss: 0.016206, validation accuracy: 96.41%\n",
      "Epoch 24: loss: 0.016153, validation accuracy: 96.44%\n",
      "Epoch 25: loss: 0.015976, validation accuracy: 96.45%\n",
      "Epoch 26: loss: 0.015706, validation accuracy: 96.47%\n",
      "Epoch 27: loss: 0.015513, validation accuracy: 96.50%\n",
      "Epoch 28: loss: 0.015596, validation accuracy: 96.53%\n",
      "Epoch 29: loss: 0.015546, validation accuracy: 96.54%\n",
      "Epoch 30: loss: 0.016069, validation accuracy: 96.56%\n",
      "Epoch 31: loss: 0.015996, validation accuracy: 96.57%\n",
      "Epoch 32: loss: 0.016070, validation accuracy: 96.59%\n",
      "Epoch 33: loss: 0.016164, validation accuracy: 96.60%\n",
      "Epoch 34: loss: 0.015720, validation accuracy: 96.62%\n",
      "Epoch 35: loss: 0.015622, validation accuracy: 96.62%\n",
      "Epoch 36: loss: 0.015326, validation accuracy: 96.63%\n",
      "Epoch 37: loss: 0.015383, validation accuracy: 96.64%\n",
      "Epoch 38: loss: 0.015092, validation accuracy: 96.66%\n",
      "Epoch 39: loss: 0.015146, validation accuracy: 96.68%\n",
      "Epoch 40: loss: 0.015094, validation accuracy: 96.69%\n",
      "Epoch 41: loss: 0.015510, validation accuracy: 96.71%\n",
      "Epoch 42: loss: 0.015112, validation accuracy: 96.73%\n",
      "Epoch 43: loss: 0.014800, validation accuracy: 96.72%\n",
      "Epoch 44: loss: 0.014620, validation accuracy: 96.75%\n",
      "Epoch 45: loss: 0.014204, validation accuracy: 96.76%\n",
      "Epoch 46: loss: 0.014083, validation accuracy: 96.75%\n",
      "Epoch 47: loss: 0.014510, validation accuracy: 96.78%\n",
      "Epoch 48: loss: 0.014371, validation accuracy: 96.78%\n",
      "Epoch 49: loss: 0.014136, validation accuracy: 96.81%\n",
      "Epoch 50: loss: 0.013661, validation accuracy: 96.84%\n",
      "Epoch 51: loss: 0.014092, validation accuracy: 96.84%\n",
      "Epoch 52: loss: 0.013587, validation accuracy: 96.86%\n",
      "Epoch 53: loss: 0.013606, validation accuracy: 96.87%\n",
      "Epoch 54: loss: 0.014160, validation accuracy: 96.87%\n",
      "Epoch 55: loss: 0.013467, validation accuracy: 96.88%\n",
      "Epoch 56: loss: 0.013730, validation accuracy: 96.90%\n",
      "Epoch 57: loss: 0.013652, validation accuracy: 96.91%\n",
      "Epoch 58: loss: 0.013714, validation accuracy: 96.92%\n",
      "Epoch 59: loss: 0.013200, validation accuracy: 96.92%\n",
      "Epoch 60: loss: 0.013620, validation accuracy: 96.91%\n",
      "Epoch 61: loss: 0.013446, validation accuracy: 96.92%\n",
      "Epoch 62: loss: 0.013198, validation accuracy: 96.95%\n",
      "Epoch 63: loss: 0.013216, validation accuracy: 96.95%\n",
      "Epoch 64: loss: 0.012849, validation accuracy: 96.96%\n",
      "Epoch 65: loss: 0.012629, validation accuracy: 96.93%\n",
      "Epoch 66: loss: 0.012819, validation accuracy: 96.96%\n",
      "Epoch 67: loss: 0.012285, validation accuracy: 96.97%\n",
      "Epoch 68: loss: 0.012832, validation accuracy: 96.97%\n",
      "Epoch 69: loss: 0.012699, validation accuracy: 96.96%\n",
      "Epoch 70: loss: 0.012685, validation accuracy: 96.96%\n",
      "Epoch 71: loss: 0.012680, validation accuracy: 96.97%\n",
      "Epoch 72: loss: 0.012954, validation accuracy: 96.96%\n",
      "Epoch 73: loss: 0.012694, validation accuracy: 96.98%\n",
      "Epoch 74: loss: 0.012737, validation accuracy: 96.95%\n",
      "Epoch 75: loss: 0.013185, validation accuracy: 96.95%\n",
      "Epoch 76: loss: 0.012965, validation accuracy: 96.95%\n",
      "Epoch 77: loss: 0.012363, validation accuracy: 96.97%\n",
      "Epoch 78: loss: 0.012896, validation accuracy: 96.97%\n",
      "Epoch 79: loss: 0.012608, validation accuracy: 96.95%\n",
      "Epoch 80: loss: 0.012768, validation accuracy: 96.96%\n",
      "Epoch 81: loss: 0.012620, validation accuracy: 96.97%\n",
      "Epoch 82: loss: 0.012310, validation accuracy: 96.98%\n",
      "Epoch 83: loss: 0.012550, validation accuracy: 96.98%\n",
      "Epoch 84: loss: 0.013188, validation accuracy: 97.00%\n",
      "Epoch 85: loss: 0.012817, validation accuracy: 96.99%\n",
      "Epoch 86: loss: 0.012909, validation accuracy: 96.98%\n",
      "Epoch 87: loss: 0.013157, validation accuracy: 97.00%\n",
      "Epoch 88: loss: 0.013192, validation accuracy: 97.00%\n",
      "Epoch 89: loss: 0.013204, validation accuracy: 96.98%\n",
      "Epoch 90: loss: 0.013060, validation accuracy: 97.00%\n",
      "Epoch 91: loss: 0.013450, validation accuracy: 97.01%\n",
      "Epoch 92: loss: 0.013360, validation accuracy: 97.00%\n",
      "Epoch 93: loss: 0.013858, validation accuracy: 97.02%\n",
      "Epoch 94: loss: 0.013523, validation accuracy: 97.02%\n",
      "Epoch 95: loss: 0.013973, validation accuracy: 97.03%\n",
      "Epoch 96: loss: 0.013533, validation accuracy: 97.04%\n",
      "Epoch 97: loss: 0.013748, validation accuracy: 97.03%\n",
      "Epoch 98: loss: 0.013684, validation accuracy: 97.04%\n",
      "Epoch 99: loss: 0.013766, validation accuracy: 97.03%\n",
      "Epoch 100: loss: 0.013763, validation accuracy: 97.04%\n",
      "Epoch 101: loss: 0.014440, validation accuracy: 97.04%\n",
      "Epoch 102: loss: 0.013667, validation accuracy: 97.05%\n",
      "Epoch 103: loss: 0.014237, validation accuracy: 97.04%\n",
      "Epoch 104: loss: 0.014217, validation accuracy: 97.05%\n",
      "Epoch 105: loss: 0.014091, validation accuracy: 97.03%\n",
      "Epoch 106: loss: 0.014108, validation accuracy: 97.05%\n",
      "Epoch 107: loss: 0.014663, validation accuracy: 97.06%\n",
      "Epoch 108: loss: 0.013957, validation accuracy: 97.06%\n",
      "Epoch 109: loss: 0.014177, validation accuracy: 97.05%\n",
      "Epoch 110: loss: 0.014045, validation accuracy: 97.05%\n",
      "Epoch 111: loss: 0.014419, validation accuracy: 97.05%\n",
      "Epoch 112: loss: 0.014082, validation accuracy: 97.07%\n",
      "Epoch 113: loss: 0.013962, validation accuracy: 97.06%\n",
      "Epoch 114: loss: 0.014183, validation accuracy: 97.07%\n",
      "Epoch 115: loss: 0.013981, validation accuracy: 97.10%\n",
      "Epoch 116: loss: 0.013930, validation accuracy: 97.08%\n",
      "Epoch 117: loss: 0.014102, validation accuracy: 97.10%\n",
      "Epoch 118: loss: 0.013533, validation accuracy: 97.10%\n",
      "Epoch 119: loss: 0.012818, validation accuracy: 97.06%\n",
      "Epoch 120: loss: 0.012803, validation accuracy: 97.07%\n",
      "Epoch 121: loss: 0.012858, validation accuracy: 97.07%\n",
      "Epoch 122: loss: 0.012749, validation accuracy: 97.08%\n",
      "Epoch 123: loss: 0.012744, validation accuracy: 97.06%\n",
      "Epoch 124: loss: 0.012758, validation accuracy: 97.06%\n",
      "Epoch 125: loss: 0.012770, validation accuracy: 97.08%\n",
      "Epoch 126: loss: 0.012745, validation accuracy: 97.06%\n",
      "Epoch 127: loss: 0.012543, validation accuracy: 97.10%\n",
      "Epoch 128: loss: 0.013068, validation accuracy: 97.11%\n",
      "Epoch 129: loss: 0.012595, validation accuracy: 97.09%\n",
      "Epoch 130: loss: 0.012617, validation accuracy: 97.12%\n",
      "Epoch 131: loss: 0.012400, validation accuracy: 97.12%\n",
      "Epoch 132: loss: 0.012874, validation accuracy: 97.12%\n",
      "Epoch 133: loss: 0.012583, validation accuracy: 97.12%\n",
      "Epoch 134: loss: 0.012496, validation accuracy: 97.11%\n",
      "Epoch 135: loss: 0.013194, validation accuracy: 97.14%\n",
      "Epoch 136: loss: 0.012817, validation accuracy: 97.12%\n",
      "Epoch 137: loss: 0.012748, validation accuracy: 97.12%\n",
      "Epoch 138: loss: 0.012690, validation accuracy: 97.15%\n",
      "Epoch 139: loss: 0.012550, validation accuracy: 97.13%\n",
      "Epoch 140: loss: 0.013006, validation accuracy: 97.14%\n",
      "Epoch 141: loss: 0.012664, validation accuracy: 97.14%\n",
      "Epoch 142: loss: 0.012900, validation accuracy: 97.15%\n",
      "Epoch 143: loss: 0.013179, validation accuracy: 97.14%\n",
      "Epoch 144: loss: 0.012707, validation accuracy: 97.13%\n",
      "Epoch 145: loss: 0.012776, validation accuracy: 97.16%\n",
      "Epoch 146: loss: 0.012532, validation accuracy: 97.15%\n",
      "Epoch 147: loss: 0.012811, validation accuracy: 97.16%\n",
      "Epoch 148: loss: 0.012684, validation accuracy: 97.19%\n",
      "Epoch 149: loss: 0.012961, validation accuracy: 97.18%\n",
      "Epoch 150: loss: 0.012732, validation accuracy: 97.20%\n",
      "Epoch 151: loss: 0.012804, validation accuracy: 97.17%\n",
      "Epoch 152: loss: 0.012553, validation accuracy: 97.19%\n",
      "Epoch 153: loss: 0.012720, validation accuracy: 97.18%\n",
      "Epoch 154: loss: 0.013014, validation accuracy: 97.20%\n",
      "Epoch 155: loss: 0.012613, validation accuracy: 97.18%\n",
      "Epoch 156: loss: 0.012706, validation accuracy: 97.18%\n",
      "Epoch 157: loss: 0.012690, validation accuracy: 97.19%\n",
      "Epoch 158: loss: 0.012745, validation accuracy: 97.19%\n",
      "Epoch 159: loss: 0.012948, validation accuracy: 97.19%\n",
      "Epoch 160: loss: 0.012868, validation accuracy: 97.18%\n",
      "Epoch 161: loss: 0.012824, validation accuracy: 97.19%\n",
      "Epoch 162: loss: 0.012439, validation accuracy: 97.20%\n",
      "Epoch 163: loss: 0.012465, validation accuracy: 97.19%\n",
      "Epoch 164: loss: 0.013044, validation accuracy: 97.23%\n",
      "Epoch 165: loss: 0.012889, validation accuracy: 97.19%\n",
      "Epoch 166: loss: 0.012154, validation accuracy: 97.20%\n",
      "Epoch 167: loss: 0.012632, validation accuracy: 97.19%\n",
      "Epoch 168: loss: 0.012708, validation accuracy: 97.22%\n",
      "Epoch 169: loss: 0.012513, validation accuracy: 97.17%\n",
      "Epoch 170: loss: 0.012402, validation accuracy: 97.21%\n",
      "Epoch 171: loss: 0.012602, validation accuracy: 97.19%\n",
      "Epoch 172: loss: 0.012440, validation accuracy: 97.18%\n",
      "Epoch 173: loss: 0.012815, validation accuracy: 97.19%\n",
      "Epoch 174: loss: 0.012507, validation accuracy: 97.19%\n",
      "Epoch 175: loss: 0.012918, validation accuracy: 97.22%\n",
      "Stopping training: no improvement for 10 epochs\n",
      "Test set performance: 96.20%\n"
     ]
    }
   ],
   "source": [
    "## You should update these: best_validation_accuracy is the best validation set accuracy so far, best_epoch is the\n",
    "## epoch of this best validation accuracy (the later can be initialized by anything, as the accuracy will be for sure\n",
    "## better than 0, so it will be updated for sure).\n",
    "best_validation_accuracy = 0\n",
    "best_epoch = -1\n",
    "\n",
    "print(\"Training the model...\")\n",
    "print(\"Shape of the training set: \", train_validation_set.images[train_indices].shape)\n",
    "print(\"Shape of the labels: \", train_validation_set.labels[train_indices].shape)\n",
    "\n",
    "for epoch in range(200):\n",
    "    ## Implement\n",
    "    ## Use a for-loop to go through all the mini-batches (with the given batch\n",
    "    ## size) in the training set, then compute the validation accuracy using\n",
    "    ## validate()\n",
    "\n",
    "    # Train the model using the training set\n",
    "    train_set = train_validation_set.images[train_indices]\n",
    "    target = train_validation_set.labels[train_indices]\n",
    "\n",
    "    count = 0\n",
    "    total_ok = 0\n",
    "    for i in range(0, len(train_set), batch_size):\n",
    "        # Compute end index of the batch\n",
    "        end = i + batch_size\n",
    "        if end > len(train_set):\n",
    "            end = len(train_set)\n",
    "            \n",
    "        assert end <= len(train_set), \"Batch size is too large\"\n",
    "        # train data: 64 images (28x28 pixels) --> 64x28x28\n",
    "        # reshape the data to 64x784 (inline image)\n",
    "\n",
    "        # Split the training samples + targets into batches\n",
    "        train_batch = train_set[i: end].reshape(-1, 28*28)\n",
    "        target_batch = target[i: end]\n",
    "\n",
    "        # Train the model using the current batch\n",
    "        current_loss_value = train_one_step(model, loss, learning_rate, train_batch, target_batch)\n",
    "\n",
    "    # Now, we have to compute the validation accuracy (using the validation set)\n",
    "    validation_accuracy = validate()\n",
    "    print(\"Epoch %d: loss: %f, validation accuracy: %.2f%%\" % (epoch, current_loss_value, validation_accuracy))\n",
    "\n",
    "    ## End\n",
    "\n",
    "    ## Implement\n",
    "    ## Hint: you should check if current accuracy is better that the best so far. If it is not, check before how many\n",
    "    ## iterations ago the best one came, and terminate if it is more than 10. Also update the best_* variables\n",
    "    ## if needed.\n",
    "    N_EPOCHS_WITHOUT_IMPROVEMENT = 10\n",
    "\n",
    "    # Check if the new model is better\n",
    "    if validation_accuracy > best_validation_accuracy:\n",
    "        best_validation_accuracy = validation_accuracy\n",
    "        best_epoch = epoch\n",
    "    else:\n",
    "        if epoch - best_epoch > N_EPOCHS_WITHOUT_IMPROVEMENT:\n",
    "            print(\"Stopping training: no improvement for %d epochs\" % N_EPOCHS_WITHOUT_IMPROVEMENT)\n",
    "            break\n",
    "\n",
    "    # End\n",
    "\n",
    "print(\"Test set performance: %.2f%%\" % test())"
   ]
  }
 ],
 "metadata": {
  "colab": {
   "provenance": [],
   "toc_visible": true
  },
  "kernelspec": {
   "display_name": "ml",
   "language": "python",
   "name": "python3"
  },
  "language_info": {
   "codemirror_mode": {
    "name": "ipython",
    "version": 3
   },
   "file_extension": ".py",
   "mimetype": "text/x-python",
   "name": "python",
   "nbconvert_exporter": "python",
   "pygments_lexer": "ipython3",
   "version": "3.12.7"
  }
 },
 "nbformat": 4,
 "nbformat_minor": 0
}
